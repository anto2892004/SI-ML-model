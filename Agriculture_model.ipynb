{
  "nbformat": 4,
  "nbformat_minor": 0,
  "metadata": {
    "colab": {
      "provenance": []
    },
    "kernelspec": {
      "name": "python3",
      "display_name": "Python 3"
    },
    "language_info": {
      "name": "python"
    }
  },
  "cells": [
    {
      "cell_type": "code",
      "execution_count": 32,
      "metadata": {
        "colab": {
          "base_uri": "https://localhost:8080/"
        },
        "id": "BZDzsPeMfjaX",
        "outputId": "842a0481-e686-4e30-a578-eceaff5085de"
      },
      "outputs": [
        {
          "output_type": "stream",
          "name": "stdout",
          "text": [
            "82 29 35 26.67377159 52.24226285\n",
            "['coffee']\n",
            "('coffee', 0.67, 0.83, 0.2, 1.0)\n"
          ]
        }
      ],
      "source": [
        "import numpy as np\n",
        "import sqlite3\n",
        "import pickle\n",
        "\n",
        "conn = sqlite3.connect('backup.db')\n",
        "c = conn.cursor()\n",
        "insert_queries = [\n",
        "    \"INSERT INTO Irrigation7 VALUES('rice', 271.4, 360.1, 64, 1.6);\",\n",
        "    \"INSERT INTO Irrigation7 VALUES('wheat', 153.1, 44.3, 59.3, 1.1);\",\n",
        "    \"INSERT INTO Irrigation7 VALUES('maize', 66, 48.7, 29.9, 1);\",\n",
        "    \"INSERT INTO Irrigation7 VALUES('Others annual', 51.8, 19.8, 16.7, 1.2);\",\n",
        "    \"INSERT INTO Irrigation7 VALUES('cotton', 73.3, 21.2, 16.3, 1);\",\n",
        "    \"INSERT INTO Irrigation7 VALUES('Others perennial', 80, 48.5, 12.9, 1);\",\n",
        "    \"INSERT INTO Irrigation7 VALUES('Fodder grasses', 71.8, 14.5, 11.7, 1);\",\n",
        "    \"INSERT INTO Irrigation7 VALUES('sugar cane', 71.7, 50.9, 10.2, 1);\",\n",
        "    \"INSERT INTO Irrigation7 VALUES('soybean', 16.6, 15.3, 6, 1);\",\n",
        "    \"INSERT INTO Irrigation7 VALUES('pulses', 18, 2.8, 5.5, 1);\",\n",
        "    \"INSERT INTO Irrigation7 VALUES('barley', 7.3, 4.1, 4.6, 1);\",\n",
        "    \"INSERT INTO Irrigation7 VALUES('potato', 12.4, 5.8, 3.7, 1);\",\n",
        "    \"INSERT INTO Irrigation7 VALUES('groundnuts', 7.5, 9.6, 3.7, 1);\",\n",
        "    \"INSERT INTO Irrigation7 VALUES('citrus', 15.1, 12.2, 3.6, 1);\",\n",
        "    \"INSERT INTO Irrigation7 VALUES('rape seed', 6.7, 0.5, 3.4, 1);\",\n",
        "    \"INSERT INTO Irrigation7 VALUES('sorghum', 8, 3.4, 3.4, 1);\",\n",
        "    \"INSERT INTO Irrigation7 VALUES('millet', 3.5, 1.9, 1.7, 1);\",\n",
        "    \"INSERT INTO Irrigation7 VALUES('grapes', 7.4, 4, 1.7, 1);\",\n",
        "    \"INSERT INTO Irrigation7 VALUES('sugar beets', 6.1, 0.89, 1.6, 1);\",\n",
        "    \"INSERT INTO Irrigation7 VALUES('sunflower', 3.6, 1.8, 1.3, 1);\",\n",
        "    \"INSERT INTO Irrigation7 VALUES('date palm', 8.4, 0.14, 0.7, 1);\",\n",
        "    \"INSERT INTO Irrigation7 VALUES('rye', 0.74, 0.68, 0.4, 1);\",\n",
        "    \"INSERT INTO Irrigation7 VALUES('coffee', 0.67, 0.83, 0.2, 1);\",\n",
        "    \"INSERT INTO Irrigation7 VALUES('cocoa', 0.01, 0.06, 0.01, 1);\",\n",
        "    \"INSERT INTO Irrigation7 VALUES('cassava', 0.02, 0.03, 0.01, 1);\",\n",
        "    \"INSERT INTO Irrigation7 VALUES('oil palm', 0.04, 0.11, 0.01, 1);\",\n",
        "    \"INSERT INTO Irrigation7 VALUES('banana', 170.1, 45.3, 50.3, 1.4);\",\n",
        "    \"INSERT INTO Irrigation7 VALUES('mango', 170.1, 45.3, 50.3, 1.4);\"\n",
        "]\n",
        "\n",
        "for query in insert_queries:\n",
        "    c.execute(query)\n",
        "#rows = c.fetchall()\n",
        "\n",
        "with open('Crop-prediction.pk1', 'rb') as f:\n",
        "    x = pickle.load(f)\n",
        "\n",
        "a = [float(i)for i in input().split(\" \")]\n",
        "\n",
        "\n",
        "features = np.array([a])\n",
        "prediction = x.predict(features)\n",
        "print(prediction)\n",
        "\n",
        "crop_name = prediction\n",
        "c.execute(\"SELECT * FROM Irrigation7 WHERE Crop=?\", (crop_name[0],))\n",
        "\n",
        "row = c.fetchone()\n",
        "\n",
        "if row:\n",
        "    print(row)\n",
        "else:\n",
        "    print(f\"No data found for crop: {crop_name}\")"
      ]
    }
  ]
}